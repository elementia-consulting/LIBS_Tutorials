{
 "cells": [
  {
   "cell_type": "markdown",
   "metadata": {},
   "source": [
    "# Laser Induced Breakdown Spectroscopy Analysis\n",
    "## Tutorial 3: LIBS Analysis using AtomAnalyzer"
   ]
  },
  {
   "cell_type": "markdown",
   "metadata": {},
   "source": [
    "### Disclaimer\n",
    "I have no association with Atom Trace and obtained no benefit from writing this Tutorial.\n",
    "As the only free LIBS software I could find, the product warrants some investigation to see what it offers.\n",
    "\n",
    "### Getting the Software\n",
    "Navigate to the [Atom Trace Software Site](https://www.atomtrace.com/products/atomanalyzer-software/)\n",
    "\n",
    "<img src='libsinfo_media/images/Tut3_ATWebPage1.png'>"
   ]
  },
  {
   "cell_type": "markdown",
   "metadata": {},
   "source": [
    "To get the software you need to register, but to date I haven't received any spam from them!\n",
    "\n",
    "<img src='libsinfo_media/images/Tut3_ATWebPage2.png'>\n"
   ]
  },
  {
   "cell_type": "markdown",
   "metadata": {},
   "source": [
    "Put in an email address and a password.  As this becomes your ID for the software, remember these\n",
    "\n",
    "<img src='libsinfo_media/images/Tut3_ATWebPage3.png'>\n",
    "\n",
    "An email will be sent to the email address provided with registration instructions (clicking on a link in the email or copying a URL to your browser)\n",
    "\n",
    "Once you have logged in using the email address/password entered at registration, click the *Get Free Trial* button\n",
    "\n",
    "<img src='libsinfo_media/images/Tut3_ATWebPage4.png'>\n"
   ]
  },
  {
   "cell_type": "markdown",
   "metadata": {},
   "source": [
    "Once clicked the you will be issued with download buttons for the AtomAnalyzer Software and the necessary toolkits to do the analyses.  The Toolkits have one month licenses\n",
    "\n",
    "<img src='libsinfo_media/images/Tut3_ATWebPage5.png'>\n",
    "\n",
    "We will only be using the Toolkit Basic, but it is worth downloading them all at this time (as well as the blue prints).\n",
    "The toolkits are less than 1Meg.  The AtomAnalyzer Software is 72.5M.  All the downloads are zip files.  Make a directory and extract them all into that directory.  At the end, it should look something like this\n",
    "\n",
    "<img src='libsinfo_media/images/Tut3_ATWebPage6.png'>\n",
    "\n"
   ]
  },
  {
   "cell_type": "markdown",
   "metadata": {},
   "source": [
    "### Running the Software\n",
    "\n",
    "The AtomAnalyzer software is in the /bin directory.  Run the software.\n",
    "\n",
    "The first time it runs, enter the email address and password that was used during signup\n",
    "\n",
    "<img src='libsinfo_media/images/Tut3_ATSoftware1.png'>\n",
    "\n",
    "Once signed in, for the software to work the licenses that were issued need to be applied to this version of the product.\n",
    "\n",
    "<img src='libsinfo_media/images/Tut3_ATSoftware2.png'>\n",
    "\n",
    "Work down the list, assigning licenses until all the lines are filled\n",
    "\n",
    "<img src='libsinfo_media/images/Tut3_ATSoftware3.png'>\n"
   ]
  },
  {
   "cell_type": "markdown",
   "metadata": {},
   "source": [
    "#### Making a calibration curve\n",
    "\n",
    "On opening the software, the screen looks like this \n",
    "\n",
    "<img src='libsinfo_media/images/Tut3_ATSoftware4.png'>\n",
    "\n",
    "All analysis work happens in a project, so make a New Project by clicking the button.  Give the Project a meaningful name, andclick *Next* \n",
    "\n",
    "<img src='libsinfo_media/images/Tut3_ATSoftware5.png'>\n",
    "\n",
    "\n",
    "Double click on *recipe* in the list on left of the screen.  This will change the screen to include the grid on which we will construct the calibration curve.  AtomAnalyzer is similar to [NodeRed](https://nodered.org) or [Lab View](https://www.ni.com/en-au/shop/labview.html) in that a complicated analysis flow is constructed by *wiring* together nodes which perform the key tasks. \n",
    "\n",
    "<img src='libsinfo_media/images/Tut3_ATSoftware6.png'>\n",
    "\n"
   ]
  },
  {
   "cell_type": "markdown",
   "metadata": {},
   "source": [
    "For this tutorial we will construct a calibration curve.  \n",
    "\n",
    "From the Blueprints section drag a *Calibration Curve* onto the black grid (work surface).  This will select and wire the correct nodes for this analysis\n",
    "\n",
    "<img src='libsinfo_media/images/Tut3_ATSoftware7.png'>\n",
    "\n",
    "#### Adding the Spectra\n",
    "\n",
    "Now that we have a method, we need some spectra to analyse.  From the *Project Menu* choose *Add File*\n",
    "\n",
    "<img src='libsinfo_media/images/Tut3_ATSoftware8.png'>\n",
    "\n",
    "In this case, we are going to add a .csv file which contains the spectra data.  To import this, choose the *Import .asc file* option and click *Next*\n",
    "\n",
    "<img src='libsinfo_media/images/Tut3_ATSoftware9.png'>\n",
    "\n",
    "Click the *Add File* button and select the source file.  If you are doing this tutorial from the [Elementia Consulting Github](https://github.com/elementia-consulting/LIBS_Tutorials) then the file we are using for this work is in the files directory (OREAS_source_h.csv).\n",
    "\n",
    "<img src='libsinfo_media/images/Tut3_ATSoftware10.png'>\n",
    "\n",
    "Click *Next*\n",
    "\n",
    "Adjust the settings to match the following image - that is, change the *Column*, *Skip Columns*, *Maximum Dimensions: Rows & Columns*.  Press *Commit*\n",
    "\n",
    "<img src='libsinfo_media/images/Tut3_ATSoftware11.png'>\n",
    "\n",
    "If all the settings are correct, the data will import and you can clic *Finish* on the next screen.\n",
    "\n",
    "This has added the spectra to the Project, but we need to associate the element concentrations (in this case Na) with the spectra.  Double click the data file in the *Project Browser*.\n",
    "\n",
    "<img src='libsinfo_media/images/Tut3_ATSoftware15.png'>\n",
    "\n",
    "Change to the *Data Metadata* tab\n",
    "\n",
    "<img src='libsinfo_media/images/Tut3_ATSoftware16.png'>\n",
    "\n",
    "Click *Add Column*\n",
    "\n",
    "<img src='libsinfo_media/images/Tut3_ATSoftware17.png'>\n",
    "\n",
    "Choose it a name that will be meaningful for future use.  Here I have chosen 'Na Concentration'.\n",
    "\n",
    "<img src='libsinfo_media/images/Tut3_ATSoftware18.png'>\n",
    "\n",
    "Fill in the concentration values and then press *Save*.\n"
   ]
  },
  {
   "cell_type": "markdown",
   "metadata": {},
   "source": [
    "#### Building the Calibration Curve\n",
    "\n",
    "Return to our recipe nodes, we can starting setting these up.\n",
    "\n",
    "On the first node (*Input Data*), our source data should now be available from the drop down menu\n",
    "\n",
    "<img src='libsinfo_media/images/Tut3_ATSoftware12.png'>\n",
    "\n",
    "Now press *Run* - this will mean that the first node sends its data to the next one.\n",
    "\n",
    "<img src='libsinfo_media/images/Tut3_ATSoftware13.png'>\n",
    "\n",
    "For this analysis we will use the Na peak at 819.4nm that we worked with last Tutorial.  On the *Select Wavelength* node, click *select dialog*\n",
    "\n",
    "Use a combination of \n",
    " * *X+* button on the top of the window to zoom.  \n",
    " * left mouse button to pan the spectra left/right.  \n",
    " * *Y+* or *Autoscale Y* to intensity zoom\n",
    " \n",
    "to position the range between roughly 817nm and 822nm in view.\n",
    "\n",
    "Then right click at approximately 819.1nm to set up a range. Once in place, the edges can be dragged.  Select the range between 819.1 and 820nm.  Press *Save* \n",
    "\n",
    "<img src='libsinfo_media/images/Tut3_ATSoftware14.png'>\n",
    "\n",
    "We will construct a calibration curve using the peak intensities, so in the next, *Interval Operation* node choose *MAX*.\n",
    "\n",
    "<img src='libsinfo_media/images/Tut3_ATSoftware19.png'>\n",
    "\n",
    "We won't use the next node in our calculations so we could just delete it, alternatively set it to *Null Operation*.\n",
    "\n",
    "Press *Run* again, so that the values propagate along our path so far.\n",
    "\n",
    "In keeping with plotting concentration as a function of intensity from the previous tutorial, select *Na Concentration* (or whatever you called the column when you added it to the meta data above) in the *Intensity* dropdown, and *range_0_MAX* in the *Concentration* dropdown.\n",
    "\n",
    "<img src='libsinfo_media/images/Tut3_ATSoftware20.png'>\n",
    "\n",
    "Finally, press *Run* again.\n",
    "\n",
    "A scatter plot similar to below should appear underneath the black recipe area.  The information is there, but the defaults for the chart are not all that helpful!\n",
    "\n",
    "<img src='libsinfo_media/images/Tut3_ATSoftware21.png'>\n",
    "\n",
    "Adjusting the *X Axis, Y Axis, Shape and Colo(u)r* will give something more useful/familiar.\n",
    "\n",
    "<img src='libsinfo_media/images/Tut3_ATSoftware22.png'>\n",
    "\n",
    "This curve varies slightly from the one we derived in the previous tutorial as this one isn't forcing the curve through 0\n",
    "\n"
   ]
  },
  {
   "cell_type": "markdown",
   "metadata": {},
   "source": [
    "### Where to from here?\n",
    "The AtomAnalyzer software has a large number of nodes which we haven't explored here, allowing some powerful techniques to be applied to LIBS spectra.  Feel free to explore these.\n",
    "\n",
    "In the next tutorial, we will utilise another tool for LIBS analysis - Python."
   ]
  },
  {
   "cell_type": "code",
   "execution_count": null,
   "metadata": {},
   "outputs": [],
   "source": []
  }
 ],
 "metadata": {
  "kernelspec": {
   "display_name": "Python 3",
   "language": "python",
   "name": "python3"
  },
  "language_info": {
   "codemirror_mode": {
    "name": "ipython",
    "version": 3
   },
   "file_extension": ".py",
   "mimetype": "text/x-python",
   "name": "python",
   "nbconvert_exporter": "python",
   "pygments_lexer": "ipython3",
   "version": "3.6.6"
  }
 },
 "nbformat": 4,
 "nbformat_minor": 2
}
